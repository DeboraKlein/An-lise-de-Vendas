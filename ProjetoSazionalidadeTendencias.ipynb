{
 "cells": [
  {
   "cell_type": "markdown",
   "id": "f8f63689",
   "metadata": {},
   "source": [
    "# Projeto de Previsão de Demanda e Análise de sazionalidade - Marketplace\n",
    "\n",
    "## Objetivo do Projeto\n",
    "Identificar padrões sazonais e de performance nos produtos mais rentáveis, utilizando análise preditiva para orientar decisões estratégicas que visem um aumento de 15% na receita.\n",
    "\n",
    "### Integração dos Relatórios\n",
    "\n",
    "#### Relatório de Evolução do Negócio (3 abas)\n",
    "Foco em comportamento dos compradores, sazonalidade e conversão\n",
    "\n",
    "Métricas úteis:\n",
    "\n",
    "- Visitas, compradores únicos, taxa de recompra\n",
    "\n",
    "- Vendas por faixa de preço\n",
    "\n",
    "- Vendas por tipo de comprador\n",
    "\n",
    "#### 2. Relatório de Desempenho do Produto\n",
    "Foco em performance mês a mês\n",
    "\n",
    "Métricas úteis:\n",
    "\n",
    "- Intenção de compra vs. conversão real\n",
    "\n",
    "- Vendas brutas por mês\n",
    "\n",
    "- Produtos com maior engajamento\n",
    "\n",
    "#### 3. Relatório de desempenho das publicações\n",
    "Foco na performance dos anúncios\n",
    "\n",
    "Métricas úteis:\n",
    "\n",
    "- Visitas únicas\n",
    "\n",
    "- Quantidade de vendas\n",
    "\n",
    "- Conversão de visitas em vendas\n",
    "\n",
    "- Conversão de visitas em compradores\n",
    "\n",
    "### Análise Preditiva e Estratégia de Receita\n",
    "\n",
    "#### Etapas:\n",
    "- Unificar os dados dos três relatórios com Pandas\n",
    "\n",
    "- Criar métricas derivadas:\n",
    "\n",
    "- Receita por produto/mês\n",
    "\n",
    "- Conversão por faixa de preço\n",
    "\n",
    "- Receita por tipo de comprador\n",
    "\n",
    "- Identificar os produtos mais rentáveis\n",
    "\n",
    "- Foco nos que têm alta margem e boa conversão\n",
    "\n",
    "- Modelar a previsão de receita\n",
    "\n",
    "- Usar regressão ou séries temporais (ARIMA, Prophet)\n",
    "\n",
    "- Simular estratégias para +15% de receita\n",
    "\n",
    "- Aumentar estoque nos meses de pico\n",
    "\n",
    "- Investir em anúncios para faixas de preço mais lucrativas\n",
    "\n",
    "- Focar em novos compradores com alta conversão"
   ]
  },
  {
   "cell_type": "markdown",
   "id": "eed35303",
   "metadata": {},
   "source": [
    "### 1. Importar os requisitos"
   ]
  },
  {
   "cell_type": "code",
   "execution_count": null,
   "id": "21cb5d9f",
   "metadata": {},
   "outputs": [],
   "source": [
    "pip install --upgrade openpyxl\n"
   ]
  },
  {
   "cell_type": "code",
   "execution_count": 10,
   "id": "912f1205",
   "metadata": {},
   "outputs": [],
   "source": [
    "from openpyxl import load_workbook\n",
    "import pandas as pd\n",
    "import seaborn as sns\n",
    "import matplotlib.pyplot as plt\n",
    "import os\n",
    "\n"
   ]
  },
  {
   "cell_type": "markdown",
   "id": "af994d0c",
   "metadata": {},
   "source": [
    "### 2. Limpar e transformar os dados\n",
    "- Converter datas\n",
    "\n",
    "- Preencher nulos\n",
    "\n",
    "- Criar colunas derivadas (mês, semana, etc.)"
   ]
  },
  {
   "cell_type": "markdown",
   "id": "d9852b42",
   "metadata": {},
   "source": [
    "#### ETL - Relatório de Evolução do negócio\n",
    "\n",
    "#### Aba 1 – Evolução do Negócio"
   ]
  },
  {
   "cell_type": "code",
   "execution_count": 3,
   "id": "655bf520",
   "metadata": {},
   "outputs": [],
   "source": [
    "evolucao = pd.read_csv(\"Relatorio_evolucao_negocio_2025_01_01-2025_10_01.csv\", encoding='latin1', sep=';', skiprows=5)\n",
    "evolucao = evolucao.loc[:, ~evolucao.columns.str.contains('^Unnamed')]\n",
    "evolucao.columns = evolucao.columns.str.strip().str.lower().str.replace(' ', '_').str.replace('[^a-z0-9_]', '', regex=True)\n",
    "evolucao['ms'] = pd.to_datetime(evolucao['ms'], format='%d/%m/%y', errors='coerce')\n"
   ]
  },
  {
   "cell_type": "markdown",
   "id": "e7188292",
   "metadata": {},
   "source": [
    "#### Aba 2 – Vendas por Faixa de Preço"
   ]
  },
  {
   "cell_type": "code",
   "execution_count": 5,
   "id": "3c6004a3",
   "metadata": {},
   "outputs": [],
   "source": [
    "faixa_preco = pd.read_csv(\"vendas_por_faixa_preco_2025.csv\", encoding='latin1', sep=';', skiprows=4)\n",
    "faixa_preco = faixa_preco.loc[:, ~faixa_preco.columns.str.contains('^Unnamed')]\n",
    "faixa_preco.columns = faixa_preco.columns.str.strip().str.lower().str.replace(' ', '_').str.replace('[^a-z0-9_]', '', regex=True)\n",
    "# Não existe coluna 'ms' neste arquivo, então não é necessário converter datas aqui"
   ]
  },
  {
   "cell_type": "markdown",
   "id": "323a949f",
   "metadata": {},
   "source": [
    "#### Aba 3 – Vendas por Tipo de Comprador"
   ]
  },
  {
   "cell_type": "code",
   "execution_count": 6,
   "id": "2bf8edb6",
   "metadata": {},
   "outputs": [],
   "source": [
    "tipo_comprador = pd.read_csv(\"vendas_por_tipo_comprador_2025.csv\", encoding='latin1', sep=';', skiprows=4)\n",
    "tipo_comprador = tipo_comprador.loc[:, ~tipo_comprador.columns.str.contains('^Unnamed')]\n",
    "tipo_comprador.columns = tipo_comprador.columns.str.strip().str.lower().str.replace(' ', '_').str.replace('[^a-z0-9_]', '', regex=True)\n"
   ]
  },
  {
   "cell_type": "markdown",
   "id": "14033ef4",
   "metadata": {},
   "source": [
    "#### ETL – Relatório de Desempenho das Publicações"
   ]
  },
  {
   "cell_type": "code",
   "execution_count": null,
   "id": "860e046c",
   "metadata": {},
   "outputs": [],
   "source": [
    "\n",
    "\n",
    "csv_path = \"Relatorio_desempenho_publicacoes_2025_01_01-2025_10_01.csv\"\n",
    "if os.path.exists(csv_path):\n",
    "    publicacoes = pd.read_csv(csv_path, encoding='latin1', sep=';', skiprows=5)\n",
    "\n",
    "    # Remover colunas Unnamed\n",
    "    publicacoes = publicacoes.loc[:, ~publicacoes.columns.str.contains('^Unnamed')]\n",
    "\n",
    "    # Padronizar nomes\n",
    "    publicacoes.columns = publicacoes.columns.str.strip().str.lower().str.replace(' ', '_').str.replace('[^a-z0-9_]', '', regex=True)\n",
    "\n",
    "    # Converter colunas numéricas\n",
    "    numericas = ['visitas_nicas', 'quantidade_de_vendas', 'compradores_nicos', 'unidades_vendidas', 'vendas_brutas_brl']\n",
    "    for col in numericas:\n",
    "        publicacoes[col] = pd.to_numeric(publicacoes[col], errors='coerce')\n",
    "else:\n",
    "    print(f\"Arquivo não encontrado: {csv_path}. Verifique o caminho e o nome do arquivo.\")\n"
   ]
  },
  {
   "cell_type": "markdown",
   "id": "f4ceaf42",
   "metadata": {},
   "source": [
    "#### ETL – Relatório de Desempenho do Produto"
   ]
  },
  {
   "cell_type": "code",
   "execution_count": 16,
   "id": "8f0e3f2f",
   "metadata": {},
   "outputs": [],
   "source": [
    "produto = pd.read_csv(\"Relatorio_desempenho_do_produt_2025_01_01-2025_10_01.csv\", encoding='latin1', sep=';', skiprows=5)\n",
    "\n",
    "# Remover colunas Unnamed\n",
    "produto = produto.loc[:, ~produto.columns.str.contains('^Unnamed')]\n",
    "\n",
    "# Padronizar nomes\n",
    "produto.columns = produto.columns.str.strip().str.lower().str.replace(' ', '_').str.replace('[^a-z0-9_]', '', regex=True)\n",
    "\n",
    "# Converter coluna de mês para datetime (usando 'ms')\n",
    "produto['ms'] = pd.to_datetime(produto['ms'], format='%B', errors='coerce')\n",
    "\n",
    "# Converter colunas numéricas\n",
    "numericas = ['visitas_nicas', 'total_de_visitas', 'curtir', 'visitas_nicas_com_inteno_de_compra',\n",
    "             'unidades_com_inteno_de_compra', 'quantidade_de_intenes_de_compra', 'valor_bruto_de_inteno_de_compra_brl',\n",
    "             'quantidade_de_vendas', 'compradores_nicos', 'unidades_vendidas', 'vendas_brutas_brl']\n",
    "for col in numericas:\n",
    "    produto[col] = pd.to_numeric(produto[col], errors='coerce')\n"
   ]
  },
  {
   "cell_type": "markdown",
   "id": "95fd6110",
   "metadata": {},
   "source": [
    "### 1. Evolução Mensal do Negócio"
   ]
  },
  {
   "cell_type": "code",
   "execution_count": 35,
   "id": "9deb4c27",
   "metadata": {},
   "outputs": [],
   "source": [
    "# Receita bruta por mês\n",
    "receita_mensal = evolucao.groupby(evolucao['ms'].dt.month)['vendas_brutas'].sum()\n",
    "\n",
    "# Taxa de recompra média por mês\n",
    "recompra_mensal = evolucao.groupby(evolucao['ms'].dt.month)['taxa_de_recompra'].mean()\n",
    "\n",
    "# Conversão de visitas em vendas por mês\n",
    "conversao_mensal = evolucao.groupby(evolucao['ms'].dt.month)['converso'].mean()\n",
    "\n",
    "# Cancelamentos e devoluções\n",
    "cancelamentos = evolucao.groupby(evolucao['ms'].dt.month)['valor_de_vendas_canceladas'].sum()\n",
    "devolucoes = evolucao.groupby(evolucao['ms'].dt.month)['valor_de_vendas_devolvidas'].sum()\n",
    "\n"
   ]
  },
  {
   "cell_type": "markdown",
   "id": "2a2b3458",
   "metadata": {},
   "source": [
    "### 2. Vendas por Faixa de Preço"
   ]
  },
  {
   "cell_type": "code",
   "execution_count": null,
   "id": "50d5b6ac",
   "metadata": {},
   "outputs": [],
   "source": [
    "\n",
    "# Faixas com maior receita\n",
    "faixa_receita = faixa_preco.sort_values(by='vendas_brutas', ascending=False)\n",
    "\n",
    "# Faixas com melhor conversão\n",
    "faixa_conversao = faixa_preco.sort_values(by='converso', ascending=False)\n",
    "\n",
    "# Perfil de compradores por faixa\n",
    "faixa_preco['_de_compradores'] = (faixa_preco['_de_compradores'].astype(str).str.replace('%','').str.replace(',','.').astype(float))\n",
    "\n"
   ]
  },
  {
   "cell_type": "markdown",
   "id": "5a99e84f",
   "metadata": {},
   "source": [
    "### 3. Vendas por Tipo de Comprador"
   ]
  },
  {
   "cell_type": "code",
   "execution_count": 57,
   "id": "c02c33eb",
   "metadata": {},
   "outputs": [],
   "source": [
    "# Novos vs. recorrentes\n",
    "tipo_comprador['vendas_brutas'] = pd.to_numeric(tipo_comprador['vendas_brutas'], errors='coerce')\n",
    "tipo_comprador['converso'] = (\n",
    "    tipo_comprador['converso']\n",
    "    .astype(str)\n",
    "    .str.replace('%','')\n",
    "    .str.replace(',','.')\n",
    "    .astype(float)\n",
    ")\n",
    "\n",
    "\n",
    "# Participação nas vendas\n",
    "tipo_comprador['_de_participao_nas_vendas'] = (\n",
    "    tipo_comprador['_de_participao_nas_vendas']\n",
    "    .astype(str)\n",
    "    .str.replace('%','')\n",
    "    .str.replace(',','.')\n",
    "    .astype(float)\n",
    ")\n",
    "\n",
    "tipo_comprador.sort_values(by='_de_participao_nas_vendas', ascending=False, inplace=True)\n"
   ]
  },
  {
   "cell_type": "markdown",
   "id": "393391f1",
   "metadata": {},
   "source": [
    "### 4. Desempenho por Produto\n"
   ]
  },
  {
   "cell_type": "code",
   "execution_count": 60,
   "id": "d02a7ae7",
   "metadata": {},
   "outputs": [],
   "source": [
    "# Renomear coluna corretamente\n",
    "produto.rename(columns={'quantidade_de_vendas': 'vendas_brutasbrl'}, inplace=True)\n"
   ]
  },
  {
   "cell_type": "code",
   "execution_count": 67,
   "id": "5aa82d51",
   "metadata": {},
   "outputs": [],
   "source": [
    "# Intenção de compra\n",
    "produto['valor_bruto_de_inteno_de_compra_brl'] = pd.to_numeric(produto['valor_bruto_de_inteno_de_compra_brl'], errors='coerce')\n",
    "produto['vendas_brutasbrl'] = pd.to_numeric(produto['vendas_brutasbrl'], errors='coerce')\n",
    "\n",
    "# Conversão\n",
    "produto['converso_de_visitas_em_inteno_de_compra'] = (\n",
    "    produto['converso_de_visitas_em_inteno_de_compra']\n",
    "    .astype(str)\n",
    "    .str.replace('%','')\n",
    "    .str.replace(',','.')\n",
    "    .astype(float)\n",
    ")\n",
    "\n",
    "produto['converso_de_visitas_em_vendas'] = (\n",
    "    produto['converso_de_visitas_em_vendas']\n",
    "    .astype(str)\n",
    "    .str.replace('%','')\n",
    "    .str.replace(',','.')\n",
    "    .astype(float)\n",
    ")\n",
    "\n",
    "# Gap entre intenção e venda\n",
    "produto['gap_intencao_venda'] = produto['valor_bruto_de_inteno_de_compra_brl'] - produto['vendas_brutasbrl']\n"
   ]
  },
  {
   "cell_type": "markdown",
   "id": "d7fb429a",
   "metadata": {},
   "source": [
    "### 5. Desempenho por Publicação"
   ]
  },
  {
   "cell_type": "code",
   "execution_count": 71,
   "id": "a02b1ba9",
   "metadata": {},
   "outputs": [],
   "source": [
    "# Conversão por anúncio\n",
    "publicacoes['converso_de_visitas_em_vendas'] = publicacoes['converso_de_visitas_em_vendas'].str.replace('%','').str.replace(',','.').astype(float)\n",
    "publicacoes['vendas_brutas_brl'] = pd.to_numeric(publicacoes['vendas_brutas_brl'], errors='coerce')\n",
    "\n",
    "# Participação na receita total\n",
    "publicacoes['participacao'] = publicacoes['vendas_brutas_brl'] / publicacoes['vendas_brutas_brl'].sum()\n",
    "\n",
    "# Anúncios com maior impacto\n",
    "publicacoes.sort_values(by='vendas_brutas_brl', ascending=False, inplace=True)\n"
   ]
  },
  {
   "cell_type": "markdown",
   "id": "4dca03f3",
   "metadata": {},
   "source": [
    "### 6. Simulação de Meta (+15%)"
   ]
  },
  {
   "cell_type": "code",
   "execution_count": 72,
   "id": "7fb8195a",
   "metadata": {},
   "outputs": [
    {
     "name": "stdout",
     "output_type": "stream",
     "text": [
      "Meta de aumento: R$0.00\n"
     ]
    }
   ],
   "source": [
    "# Meta de crescimento\n",
    "meta = publicacoes['vendas_brutas_brl'].sum() * 0.15\n",
    "print(f\"Meta de aumento: R${meta:,.2f}\")\n",
    "\n",
    "# Produtos com maior potencial de crescimento\n",
    "publicacoes['potencial'] = publicacoes['converso_de_visitas_em_vendas'] * publicacoes['visitas_nicas']\n",
    "publicacoes.sort_values(by='potencial', ascending=False, inplace=True)\n",
    "\n",
    "# Estratégia por faixa de preço\n",
    "faixa_preco['potencial_receita'] = faixa_preco['vendas_brutas'] * 1.15\n"
   ]
  },
  {
   "cell_type": "markdown",
   "id": "a0159358",
   "metadata": {},
   "source": [
    "### 7. Script para exportar os dados tratados"
   ]
  },
  {
   "cell_type": "code",
   "execution_count": 73,
   "id": "375448b1",
   "metadata": {},
   "outputs": [
    {
     "name": "stdout",
     "output_type": "stream",
     "text": [
      "✅ Exportação concluída! Arquivos salvos na pasta 'dados_tratados'.\n"
     ]
    }
   ],
   "source": [
    "\n",
    "\n",
    "# Criar pasta de saída se não existir\n",
    "os.makedirs(\"dados_tratados\", exist_ok=True)\n",
    "\n",
    "# Exportar cada DataFrame\n",
    "evolucao.to_csv(\"dados_tratados/evolucao_negocio.csv\", index=False)\n",
    "faixa_preco.to_csv(\"dados_tratados/faixa_preco.csv\", index=False)\n",
    "tipo_comprador.to_csv(\"dados_tratados/tipo_comprador.csv\", index=False)\n",
    "produto.to_csv(\"dados_tratados/desempenho_produto.csv\", index=False)\n",
    "publicacoes.to_csv(\"dados_tratados/desempenho_publicacoes.csv\", index=False)\n",
    "\n",
    "print(\"✅ Exportação concluída! Arquivos salvos na pasta 'dados_tratados'.\")\n"
   ]
  },
  {
   "cell_type": "markdown",
   "id": "57b8ed70",
   "metadata": {},
   "source": [
    "### 8. Simulação de Meta (+15%) — Exportação"
   ]
  },
  {
   "cell_type": "code",
   "execution_count": 75,
   "id": "ed8402f3",
   "metadata": {},
   "outputs": [],
   "source": [
    "\n",
    "\n",
    "\n",
    "\n",
    "# Ordenar por potencial de crescimento\n",
    "publicacoes_meta = publicacoes.copy()\n",
    "publicacoes_meta.sort_values(by='potencial', ascending=False, inplace=True)\n",
    "\n",
    "# Exportar simulação\n",
    "publicacoes_meta.to_csv(\"dados_tratados/simulacao_meta_15.csv\", index=False)\n"
   ]
  }
 ],
 "metadata": {
  "kernelspec": {
   "display_name": "Python 3",
   "language": "python",
   "name": "python3"
  },
  "language_info": {
   "codemirror_mode": {
    "name": "ipython",
    "version": 3
   },
   "file_extension": ".py",
   "mimetype": "text/x-python",
   "name": "python",
   "nbconvert_exporter": "python",
   "pygments_lexer": "ipython3",
   "version": "3.13.3"
  }
 },
 "nbformat": 4,
 "nbformat_minor": 5
}
